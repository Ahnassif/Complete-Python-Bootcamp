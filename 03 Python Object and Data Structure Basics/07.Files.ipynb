{
 "cells": [
  {
   "cell_type": "markdown",
   "metadata": {},
   "source": [
    "# Files\n",
    "\n",
    "Python uses file objects to interact with external files on your computer. These file objects can be any sort of file you have on your computer, whether it be an audio file, a text file, emails, Excel documents, etc. Note: You will probably need to install certain libraries or modules to interact with those various file types, but they are easily available. (We will cover downloading modules later on in the course).\n",
    "\n",
    "Python has a built-in open function that allows us to open and play with basic file types. First we will need a file though. We're going to use some iPython magic to create a text file!\n",
    "\n",
    "## iPython Writing a File"
   ]
  },
  {
   "cell_type": "code",
   "execution_count": 1,
   "metadata": {},
   "outputs": [
    {
     "data": {
      "text/plain": [
       "u'D:\\\\Learning&Tutorials\\\\Programming Languages\\\\Python\\\\python-learning\\\\python-bootcamp\\\\Complete-Python-Bootcamp'"
      ]
     },
     "execution_count": 1,
     "metadata": {},
     "output_type": "execute_result"
    }
   ],
   "source": [
    "pwd"
   ]
  },
  {
   "cell_type": "code",
   "execution_count": 2,
   "metadata": {},
   "outputs": [
    {
     "name": "stdout",
     "output_type": "stream",
     "text": [
      "Overwriting test.txt\n"
     ]
    }
   ],
   "source": [
    "%%writefile test.txt\n",
    "Hello, this is a quick test file"
   ]
  },
  {
   "cell_type": "markdown",
   "metadata": {},
   "source": [
    "## Python Opening a file\n",
    "\n",
    "We can open a file with the open() function. The open function also takes in arguments (also called parameters). Lets see how this is used:"
   ]
  },
  {
   "cell_type": "code",
   "execution_count": 3,
   "metadata": {
    "collapsed": true
   },
   "outputs": [],
   "source": [
    "# Open the text.txt we made earlier\n",
    "my_file = open('test.txt')"
   ]
  },
  {
   "cell_type": "code",
   "execution_count": 4,
   "metadata": {},
   "outputs": [
    {
     "data": {
      "text/plain": [
       "'Hello, this is a quick test file'"
      ]
     },
     "execution_count": 4,
     "metadata": {},
     "output_type": "execute_result"
    }
   ],
   "source": [
    "# We can now read the file\n",
    "my_file.read()"
   ]
  },
  {
   "cell_type": "code",
   "execution_count": 5,
   "metadata": {},
   "outputs": [
    {
     "data": {
      "text/plain": [
       "''"
      ]
     },
     "execution_count": 5,
     "metadata": {},
     "output_type": "execute_result"
    }
   ],
   "source": [
    "# But what happens if we try to read it again?\n",
    "my_file.read()"
   ]
  },
  {
   "cell_type": "markdown",
   "metadata": {},
   "source": [
    "This happens because you can imagine the reading \"cursor\" is at the end of the file after having read it. So there is nothing left to read. We can reset the \"cursor\" like this:"
   ]
  },
  {
   "cell_type": "code",
   "execution_count": 6,
   "metadata": {},
   "outputs": [],
   "source": [
    "# Seek to the start of file (index 0)\n",
    "my_file.seek(0)"
   ]
  },
  {
   "cell_type": "code",
   "execution_count": 7,
   "metadata": {},
   "outputs": [
    {
     "data": {
      "text/plain": [
       "'Hello, this is a quick test file'"
      ]
     },
     "execution_count": 7,
     "metadata": {},
     "output_type": "execute_result"
    }
   ],
   "source": [
    "# Now read again\n",
    "my_file.read()"
   ]
  },
  {
   "cell_type": "markdown",
   "metadata": {},
   "source": [
    "In order to not have to reset every time, we can also use the readlines method. Use caution with large files, since everything will be held in memory. We will learn how to iterate over large files later in the course."
   ]
  },
  {
   "cell_type": "code",
   "execution_count": 8,
   "metadata": {},
   "outputs": [
    {
     "data": {
      "text/plain": [
       "[]"
      ]
     },
     "execution_count": 8,
     "metadata": {},
     "output_type": "execute_result"
    }
   ],
   "source": [
    "# Readlines returns a list of the lines in the file.\n",
    "my_file.readlines()"
   ]
  },
  {
   "cell_type": "markdown",
   "metadata": {},
   "source": [
    "## Writing to a File\n",
    "\n",
    "By default, using the open() function will only allow us to read the file, we need to pass the argument 'w' to write over the file. For example:"
   ]
  },
  {
   "cell_type": "code",
   "execution_count": 9,
   "metadata": {
    "collapsed": true
   },
   "outputs": [],
   "source": [
    "# Add a second argument to the function, 'w' which stands for write\n",
    "my_file = open('test.txt','w+')"
   ]
  },
  {
   "cell_type": "code",
   "execution_count": 10,
   "metadata": {
    "collapsed": true
   },
   "outputs": [],
   "source": [
    "# Write to the file\n",
    "my_file.write('This is a new line')"
   ]
  },
  {
   "cell_type": "code",
   "execution_count": 11,
   "metadata": {},
   "outputs": [
    {
     "data": {
      "text/plain": [
       "\"\\x00\\x00\\x00@\\x00\\x00\\x00s\\xe1\\x00\\x00\\x00d\\x00\\x00Z\\x00\\x00d\\x01\\x00d\\x02\\x00l\\x01\\x00m\\x02\\x00Z\\x02\\x00\\x01d\\x01\\x00d\\x03\\x00l\\x03\\x00m\\x04\\x00Z\\x04\\x00m\\x05\\x00Z\\x05\\x00\\x01d\\x01\\x00d\\x04\\x00l\\x06\\x00m\\x07\\x00Z\\x07\\x00\\x01d\\x01\\x00d\\x05\\x00l\\x08\\x00m\\t\\x00Z\\t\\x00\\x01d\\x06\\x00d\\x07\\x00l\\n\\x00m\\x0b\\x00Z\\x0b\\x00m\\x0c\\x00Z\\x0c\\x00m\\r\\x00Z\\r\\x00m\\x0e\\x00Z\\x0e\\x00m\\x0f\\x00Z\\x0f\\x00m\\x10\\x00Z\\x10\\x00\\x01e\\x04\\x00d\\x08\\x00e\\x07\\x00e\\x02\\x00e\\t\\x00f\\x03\\x00d\\t\\x00\\x84\\x00\\x00\\x83\\x00\\x00Y\\x83\\x01\\x00Z\\x11\\x00e\\x04\\x00d\\n\\x00e\\x07\\x00e\\x02\\x00e\\t\\x00f\\x03\\x00d\\x0b\\x00\\x84\\x00\\x00\\x83\\x00\\x00Y\\x83\\x01\\x00Z\\x12\\x00e\\x04\\x00d\\x0c\\x00e\\x07\\x00e\\t\\x00f\\x02\\x00d\\r\\x00\\x84\\x00\\x00\\x83\\x00\\x00Y\\x83\\x01\\x00Z\\x13\\x00d\\x0e\\x00S(\\x0f\\x00\\x00\\x00s@\\x00\\x00\\x00Controller class.\\n\\nRepresents a Gamepad or Joystick controller.\\ni\\x01\\x00\\x00\\x00(\\x01\\x00\\x00\\x00t\\x0b\\x00\\x00\\x00ValueWidget(\\x02\\x00\\x00\\x00t\\x08\\x00\\x00\\x00registert\\x14\\x00\\x00\\x00widget_serialization(\\x01\\x00\\x00\\x00t\\t\\x00\\x00\\x00DOMWidget(\\x01\\x00\\x00\\x00t\\n\\x00\\x00\\x00CoreWidgeti\\xff\\xff\\xff\\xff(\\x06\\x00\\x00\\x00t\\x04\\x00\\x00\\x00Boolt\\x03\\x00\\x00\\x00Intt\\x05\\x00\\x00\\x00Floatt\\x07\\x00\\x00\\x00Unicodet\\x04\\x00\\x00\\x00Listt\\x08\\x00\\x00\\x00Instancet\\x06\\x00\\x00\\x00Buttonc\\x00\\x00\\x00\\x00\\x00\\x00\\x00\\x00\\t\\x00\\x00\\x00B\\x00\\x00\\x00s\\x8c\\x00\\x00\\x00e\\x00\\x00Z\\x01\\x00d\\x00\\x00Z\\x02\\x00e\\x03\\x00d\\x01\\x00d\\x02\\x00d\\x03\\x00d\\x04\\x00d\\x05\\x00e\\x04\\x00d\\x06\\x00d\\x07\\x00\\x83\\x00\\x04j\\x05\\x00d\\x08\\x00e\\x04\\x00\\x83\\x00\\x01Z\\x06\\x00e\\x07\\x00d\\x05\\x00e\\x04\\x00d\\x06\\x00d\\t\\x00\\x83\\x00\\x02j\\x05\\x00d\\x08\\x00e\\x04\\x00\\x83\\x00\\x01Z\\x08\\x00e\\t\\x00d\\n\\x00\\x83\\x01\\x00j\\x05\\x00d\\x08\\x00e\\x04\\x00\\x83\\x00\\x01Z\\n\\x00e\\t\\x00d\\x0b\\x00\\x83\\x01\\x00j\\x05\\x00d\\x08\\x00e\\x04\\x00\\x83\\x00\\x01Z\\x0b\\x00RS(\\x0c\\x00\\x00\\x00s(\\x00\\x00\\x00Represents a gamepad or joystick button.t\\x03\\x00\\x00\\x00ming\\x00\\x00\\x00\\x00\\x00\\x00\\x00\\x00t\\x03\\x00\\x00\\x00maxg\\x00\\x00\\x00\\x00\\x00\\x00\\xf0?t\\t\\x00\\x00\\x00read_onlyt\\x04\\x00\\x00\\x00helps\\x18\\x00\\x00\\x00The value of the button.t\\x04\\x00\\x00\\x00syncs\\x1e\\x00\\x00\\x00Whether the button is pressed.t\\x14\\x00\\x00\\x00ControllerButtonViewt\\x15\\x00\\x00\\x00ControllerButtonModel(\\x0c\\x00\\x00\\x00t\\x08\\x00\\x00\\x00__name__t\\n\\x00\\x00\\x00__module__t\\x07\\x00\\x00\\x00__doc__R\\x07\\x00\\x00\\x00t\\x04\\x00\\x00\\x00Truet\\x03\\x00\\x00\\x00tagt\\x05\\x00\\x00\\x00valueR\\x05\\x00\\x00\\x00t\\x07\\x00\\x00\\x00pressedR\\x08\\x00\\x00\\x00t\\n\\x00\\x00\\x00_view_namet\\x0b\\x00\\x00\\x00_model_name(\\x00\\x00\\x00\\x00(\\x00\\x00\\x00\\x00(\\x00\\x00\\x00\\x00sT\\x00\\x00\\x00C:\\\\Users\\\\Home-PC\\\\Anaconda2\\\\lib\\\\site-packages\\\\ipywidgets\\\\widgets\\\\widget_controller.pyR\\x0b\\x00\\x00\\x00\\x10\\x00\\x00\\x00s\\n\\x00\\x00\\x00\\x06\\x02\\x06\\x01-\\x01!\\x02\\x18\\x01t\\x04\\x00\\x00\\x00Axisc\\x00\\x00\\x00\\x00\\x00\\x00\\x00\\x00\\t\\x00\\x00\\x00B\\x00\\x00\\x00sk\\x00\\x00\\x00e\\x00\\x00Z\\x01\\x00d\\x00\\x00Z\\x02\\x00e\\x03\\x00d\\x01\\x00d\\x02\\x00d\\x03\\x00d\\x04\\x00d\\x05\\x00e\\x04\\x00d\\x06\\x00d\\x07\\x00\\x83\\x00\\x04j\\x05\\x00d\\x08\\x00e\\x04\\x00\\x83\\x00\\x01Z\\x06\\x00e\\x07\\x00d\\t\\x00\\x83\\x01\\x00j\\x05\\x00d\\x08\\x00e\\x04\\x00\\x83\\x00\\x01Z\\x08\\x00e\\x07\\x00d\\n\\x00\\x83\\x01\\x00j\\x05\\x00d\\x08\\x00e\\x04\\x00\\x83\\x00\\x01Z\\t\\x00RS(\\x0b\\x00\\x00\\x00s&\\x00\\x00\\x00Represents a gamepad or joystick axis.R\\x0c\\x00\\x00\\x00g\\x00\\x00\\x00\\x00\\x00\\x00\\xf0\\xbfR\\r\\x00\\x00\\x00g\\x00\\x00\\x00\\x00\\x00\\x00\\xf0?R\\x0e\\x00\\x00\\x00R\\x0f\\x00\\x00\\x00s\\x16\\x00\\x00\\x00The value of the axis.R\\x10\\x00\\x00\\x00t\\x12\\x00\\x00\\x00ControllerAxisViewt\\x13\\x00\\x00\\x00ControllerAxisModel(\\n\\x00\\x00\\x00R\\x13\\x00\\x00\\x00R\\x14\\x00\\x00\\x00R\\x15\\x00\\x00\\x00R\\x07\\x00\\x00\\x00R\\x16\\x00\\x00\\x00R\\x17\\x00\\x00\\x00R\\x18\\x00\\x00\\x00R\\x08\\x00\\x00\\x00R\\x1a\\x00\\x00\\x00R\\x1b\\x00\\x00\\x00(\\x00\\x00\\x00\\x00(\\x00\\x00\\x00\\x00(\\x00\\x00\\x00\\x00sT\\x00\\x00\\x00C:\\\\Users\\\\Home-PC\\\\Anaconda2\\\\lib\\\\site-packages\\\\ipywidgets\\\\widgets\\\\widget_controller.pyR\\x1c\\x00\\x00\\x00\\x1a\\x00\\x00\\x00s\\x08\\x00\\x00\\x00\\x06\\x02\\x06\\x01-\\x02\\x18\\x01t\\n\\x00\\x00\\x00Controllerc\\x00\\x00\\x00\\x00\\x00\\x00\\x00\\x00\\x07\\x00\\x00\\x00B\\x00\\x00\\x00s=\\x01\\x00\\x00e\\x00\\x00Z\\x01\\x00d\\x00\\x00Z\\x02\\x00e\\x03\\x00d\\x01\\x00d\\x02\\x00\\x83\\x00\\x01j\\x04\\x00d\\x03\\x00e\\x05\\x00\\x83\\x00\\x01Z\\x06\\x00e\\x07\\x00d\\x04\\x00e\\x05\\x00d\\x01\\x00d\\x05\\x00\\x83\\x00\\x02j\\x04\\x00d\\x03\\x00e\\x05\\x00\\x83\\x00\\x01Z\\x08\\x00e\\x07\\x00d\\x04\\x00e\\x05\\x00d\\x01\\x00d\\x06\\x00\\x83\\x00\\x02j\\x04\\x00d\\x03\\x00e\\x05\\x00\\x83\\x00\\x01Z\\t\\x00e\\n\\x00d\\x04\\x00e\\x05\\x00d\\x01\\x00d\\x07\\x00\\x83\\x00\\x02j\\x04\\x00d\\x03\\x00e\\x05\\x00\\x83\\x00\\x01Z\\x0b\\x00e\\x0c\\x00d\\x04\\x00e\\x05\\x00d\\x01\\x00d\\x08\\x00\\x83\\x00\\x02j\\x04\\x00d\\x03\\x00e\\x05\\x00\\x83\\x00\\x01Z\\r\\x00e\\x0e\\x00d\\t\\x00e\\x0f\\x00e\\x10\\x00\\x83\\x01\\x00d\\x04\\x00e\\x05\\x00d\\x01\\x00d\\n\\x00\\x83\\x00\\x03j\\x04\\x00d\\x03\\x00e\\x05\\x00e\\x11\\x00\\x8d\\x00\\x01Z\\x12\\x00e\\x0e\\x00d\\t\\x00e\\x0f\\x00e\\x13\\x00\\x83\\x01\\x00d\\x04\\x00e\\x05\\x00d\\x01\\x00d\\x0b\\x00\\x83\\x00\\x03j\\x04\\x00d\\x03\\x00e\\x05\\x00e\\x11\\x00\\x8d\\x00\\x01Z\\x14\\x00e\\x07\\x00d\\x0c\\x00\\x83\\x01\\x00j\\x04\\x00d\\x03\\x00e\\x05\\x00\\x83\\x00\\x01Z\\x15\\x00e\\x07\\x00d\\r\\x00\\x83\\x01\\x00j\\x04\\x00d\\x03\\x00e\\x05\\x00\\x83\\x00\\x01Z\\x16\\x00RS(\\x0e\\x00\\x00\\x00s\\x1d\\x00\\x00\\x00Represents a game controller.R\\x0f\\x00\\x00\\x00s \\x00\\x00\\x00The id number of the controller.R\\x10\\x00\\x00\\x00R\\x0e\\x00\\x00\\x00s\\x1b\\x00\\x00\\x00The name of the controller.s \\x00\\x00\\x00The name of the control mapping.s!\\x00\\x00\\x00Whether the gamepad is connected.s5\\x00\\x00\\x00The last time the data from this gamepad was updated.t\\x05\\x00\\x00\\x00traits\\x1b\\x00\\x00\\x00The buttons on the gamepad.s\\x18\\x00\\x00\\x00The axes on the gamepad.t\\x0e\\x00\\x00\\x00ControllerViewt\\x0f\\x00\\x00\\x00ControllerModel(\\x17\\x00\\x00\\x00R\\x13\\x00\\x00\\x00R\\x14\\x00\\x00\\x00R\\x15\\x00\\x00\\x00R\\x06\\x00\\x00\\x00R\\x17\\x00\\x00\\x00R\\x16\\x00\\x00\\x00t\\x05\\x00\\x00\\x00indexR\\x08\\x00\\x00\\x00t\\x04\\x00\\x00\\x00namet\\x07\\x00\\x00\\x00mappingR\\x05\\x00\\x00\\x00t\\t\\x00\\x00\\x00connectedR\\x07\\x00\\x00\\x00t\\t\\x00\\x00\\x00timestampR\\t\\x00\\x00\\x00R\\n\\x00\\x00\\x00R\\x0b\\x00\\x00\\x00R\\x02\\x00\\x00\\x00t\\x07\\x00\\x00\\x00buttonsR\\x1c\\x00\\x00\\x00t\\x04\\x00\\x00\\x00axesR\\x1a\\x00\\x00\\x00R\\x1b\\x00\\x00\\x00(\\x00\\x00\\x00\\x00(\\x00\\x00\\x00\\x00(\\x00\\x00\\x00\\x00sT\\x00\\x00\\x00C:\\\\Users\\\\Home-PC\\\\Anaconda2\\\\lib\\\\site-packages\\\\ipywidgets\\\\widgets\\\\widget_controller.pyR\\x1f\\x00\\x00\\x00#\\x00\\x00\\x00s\\x14\\x00\\x00\\x00\\x06\\x02\\x06\\x01\\x1b\\x04!\\x01!\\x01!\\x01!\\x030\\x010\\x02\\x18\\x01N(\\x14\\x00\\x00\\x00R\\x15\\x00\\x00\\x00t\\x0b\\x00\\x00\\x00valuewidgetR\\x00\\x00\\x00\\x00t\\x06\\x00\\x00\\x00widgetR\\x01\\x00\\x00\\x00R\\x02\\x00\\x00\\x00t\\t\\x00\\x00\\x00domwidgetR\\x03\\x00\\x00\\x00t\\x0b\\x00\\x00\\x00widget_coreR\\x04\\x00\\x00\\x00t\\t\\x00\\x00\\x00traitletsR\\x05\\x00\\x00\\x00R\\x06\\x00\\x00\\x00R\\x07\\x00\\x00\\x00R\\x08\\x00\\x00\\x00R\\t\\x00\\x00\\x00R\\n\\x00\\x00\\x00R\\x0b\\x00\\x00\\x00R\\x1c\\x00\\x00\\x00R\\x1f\\x00\\x00\\x00(\\x00\\x00\\x00\\x00(\\x00\\x00\\x00\\x00(\\x00\\x00\\x00\\x00sT\\x00\\x00\\x00C:\\\\Users\\\\Home-PC\\\\Anaconda2\\\\lib\\\\site-packages\\\\ipywidgets\\\\widgets\\\\widget_controller.pyt\\x08\\x00\\x00\\x00<module>\\x07\\x00\\x00\\x00s\\x16\\x00\\x00\\x00\\x06\\x02\\x10\\x01\\x16\\x01\\x10\\x01\\x10\\x01.\\x03\\x06\\x01\\x1c\\t\\x06\\x01\\x1c\\x08\\x06\\x01 os only part of IPython parallelt\\x0b\\x00\\x00\\x00clear_replyR&\\x00\\x00\\x00Rc\\x00\\x00\\x00RC\\x00\\x00\\x00N(\\x05\\x00\\x00\\x00RK\\x00\\x00\\x00Rl\\x00\\x00\\x00t\\x08\\x00\\x00\\x00do_clearRF\\x00\\x00\\x00Rg\\x00\\x00\\x00(\\x05\\x00\\x00\\x00R!\\x00\\x00\\x00Rh\\x00\\x00\\x00RY\\x00\\x00\\x00Rc\\x00\\x00\\x00RC\\x00\\x00\\x00(\\x00\\x00\\x00\\x00(\\x00\\x00\\x00\\x00sD\\x00\\x00\\x00C:\\\\Users\\\\Home-PC\\\\Anaconda2\\\\lib\\\\site-packages\\\\ipykernel\\\\kernelbase.pyR7\\x00\\x00\\x00e\\x02\\x00\\x00s\\x08\\x00\\x00\\x00\\x00\\x02\\x10\\x01\\x0c\\x01\\x1e\\x01c\\x01\\x00\\x00\\x00\\x01\\x00\\x00\\x00\\x01\\x00\\x00\\x00C\\x00\\x01\\x00s\\n\\x00\\x00\\x00t\\x00\\x00\\x82\\x01\\x00d\\x01\\x00S(\\x02\\x00\\x00\\x00R\\xd4\\x00\\x00\\x00N(\\x01\\x00\\x00\\x00R\\x9e\\x00\\x00\\x00(\\x01\\x00\\x00\\x00R!\\x00\\x00\\x00(\\x00\\x00\\x00\\x00(\\x00\\x00\\x00\\x00sD\\x00\\x00\\x00C:\\\\Users\\\\Home-PC\\\\Anaconda2\\\\lib\\\\site-packages\\\\ipykernel\\\\kernelbase.pyR\\xdd\\x00\\x00\\x00l\\x02\\x00\\x00s\\x02\\x00\\x00\\x00\\x00\\x02c\\x02\\x00\\x00\\x00\\x03\\x00\\x00\\x00\\x04\\x00\\x00\\x00C\\x00\\x01\\x00s$\\x00\\x00\\x00d\\x01\\x00|\\x00\\x00j\\x00\\x00\\x16}\\x02\\x00t\\x01\\x00j\\x02\\x00d\\x02\\x00|\\x02\\x00|\\x01\\x00f\\x02\\x00\\x16\\x83\\x01\\x00S(\\x03\\x00\\x00\\x00s!\\x00\\x00\\x00prefixed topic for IOPub messagess\\t\\x00\\x00\\x00kernel.%ss\\x05\\x00\\x00\\x00%s.%s(\\x03\\x00\\x00\\x00R&\\x00\\x00\\x00R\\n\\x00\\x00\\x00t\\n\\x00\\x00\\x00cast_bytes(\\x03\\x00\\x00\\x00R!\\x00\\x00\\x00t\\x05\\x00\\x00\\x00topict\\x04\\x00\\x00\\x00base(\\x00\\x00\\x00\\x00(\\x00\\x00\\x00\\x00sD\\x00\\x00\\x00C:\\\\Users\\\\Home-PC\\\\Anaconda2\\\\lib\\\\site-packages\\\\ipykernel\\\\kernelbase.pyR\\x83\\x00\\x00\\x00t\\x02\\x00\\x00s\\x04\\x00\\x00\\x00\\x00\\x02\\r\\x02c\\x01\\x00\\x00\\x00\\x02\\x00\\x00\\x00\\x03\\x00\\x00\\x00C\\x00\\x01\\x00s.\\x00\\x00\\x00x'\\x00|\\x00\\x00j\\x00\\x00D]\\x1c\\x00}\\x01\\x00|\\x01\\x00r\\n\\x00|\\x00\\x00j\\x01\\x00|\\x01\\x00\\x83\\x01\\x00\\x01q\\n\\x00q\\n\\x00Wd\\x00\\x00S(\\x01\\x00\\x00\\x00N(\\x02\\x00\\x00\\x00Rr\\x00\\x00\\x00t\\x0c\\x00\\x00\\x00_abort_queue(\\x02\\x00\\x00\\x00R!\\x00\\x00\\x00Rh\\x00\\x00\\x00(\\x00\\x00\\x00\\x00(\\x00\\x00\\x00\\x00sD\\x00\\x00\\x00C:\\\\Users\\\\Home-PC\\\\Anaconda2\\\\lib\\\\site-packages\\\\ipykernel\\\\kernelbase.pyR\\x9a\\x00\\x00\\x00z\\x02\\x00\\x00s\\x06\\x00\\x00\\x00\\x00\\x01\\x10\\x01\\x06\\x01c\\x02\\x00\\x00\\x00\\n\\x00\\x00\\x00\\x0b\\x00\\x00\\x00C\\x00\\x01\\x00sL\\x01\\x00\\x00t\\x00\\x00j\\x01\\x00\\x83\\x00\\x00}\\x02\\x00|\\x02\\x00j\\x02\\x00|\\x01\\x00j\\x03\\x00t\\x00\\x00j\\x04\\x00\\x83\\x02\\x00\\x01x#\\x01t\\x05\\x00rG\\x01|\\x00\\x00j\\x06\\x00j\\x07\\x00|\\x01\\x00t\\x00\\x00j\\x08\\x00d\\x01\\x00t\\x05\\x00\\x83\\x02\\x01\\\\\\x02\\x00}\\x03\\x00}\\x04\\x00|\\x04\\x00d\\x00\\x00k\\x08\\x00r_\\x00d\\x00\\x00S|\\x00\\x00j\\n\\x00j\\x0b\\x00d\\x02\\x00\\x83\\x01\\x00\\x01|\\x00\\x00j\\n\\x00j\\x0b\\x00d\\x03\\x00|\\x04\\x00\\x83\\x02\\x00\\x01|\\x04\\x00d\\x04\\x00\\x19d\\x05\\x00\\x19}\\x05\\x00|\\x05\\x00j\\x0c\\x00d\\x06\\x00\\x83\\x01\\x00d\\x07\\x00\\x19d\\x08\\x00\\x17}\\x06\\x00i\\x01\\x00d\\t\\x00d\\n\\x006}\\x07\\x00i\\x01\\x00|\\x00\\x00j\\r\\x00d\\x0b\\x006\""
      ]
     },
     "execution_count": 11,
     "metadata": {},
     "output_type": "execute_result"
    }
   ],
   "source": [
    "# Read the file\n",
    "my_file.read()"
   ]
  },
  {
   "cell_type": "markdown",
   "metadata": {},
   "source": [
    "## Iterating through a File\n",
    "\n",
    "Lets get a quick preview of a for loop by iterating over a text file. First let's make a new text file with some iPython Magic **only works in jupyter notebooks**:"
   ]
  },
  {
   "cell_type": "code",
   "execution_count": 13,
   "metadata": {},
   "outputs": [
    {
     "name": "stdout",
     "output_type": "stream",
     "text": [
      "Overwriting test.txt\n"
     ]
    }
   ],
   "source": [
    "%%writefile test.txt\n",
    "First Line\n",
    "Second Line"
   ]
  },
  {
   "cell_type": "markdown",
   "metadata": {},
   "source": [
    "Now we can use a little bit of flow to tell the program to for through every line of the file and do something:"
   ]
  },
  {
   "cell_type": "code",
   "execution_count": 14,
   "metadata": {},
   "outputs": [
    {
     "name": "stdout",
     "output_type": "stream",
     "text": [
      "First Line\n",
      "\n",
      "Second Line\n"
     ]
    }
   ],
   "source": [
    "for line in open('test.txt'):\n",
    "    print line"
   ]
  },
  {
   "cell_type": "markdown",
   "metadata": {},
   "source": [
    "Don't worry about fully understanding this yet, for loops are coming up soon. But we'll break down what we did above. We said that for every line in this text file, go ahead and print that line. Its important to note a few things here:\n",
    "\n",
    "    1.) We could have called the 'line' object anything (see example below).\n",
    "    2.) By not calling .read() on the file, the whole text file was not stored in memory.\n",
    "    3.) Notice the indent on the second line for print. This whitespace is required in Python.\n",
    "\n",
    "We'll learn a lot more about this later, but up next: Sets and Booleans!"
   ]
  },
  {
   "cell_type": "code",
   "execution_count": 15,
   "metadata": {},
   "outputs": [
    {
     "name": "stdout",
     "output_type": "stream",
     "text": [
      "First Line\n",
      "\n",
      "Second Line\n"
     ]
    }
   ],
   "source": [
    "# Pertaining to the first point above\n",
    "for asdf in open('test.txt'):\n",
    "    print asdf"
   ]
  },
  {
   "cell_type": "code",
   "execution_count": null,
   "metadata": {
    "collapsed": true
   },
   "outputs": [],
   "source": []
  }
 ],
 "metadata": {
  "kernelspec": {
   "display_name": "Python 2",
   "language": "python",
   "name": "python2"
  },
  "language_info": {
   "codemirror_mode": {
    "name": "ipython",
    "version": 2
   },
   "file_extension": ".py",
   "mimetype": "text/x-python",
   "name": "python",
   "nbconvert_exporter": "python",
   "pygments_lexer": "ipython2",
   "version": "2.7.13"
  }
 },
 "nbformat": 4,
 "nbformat_minor": 1
}
